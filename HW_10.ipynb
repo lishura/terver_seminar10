{
 "cells": [
  {
   "attachments": {},
   "cell_type": "markdown",
   "metadata": {},
   "source": [
    "Провести дисперсионный анализ для определения того, есть ли различия среднего роста среди взрослых футболистов, хоккеистов и штангистов.\n",
    "Даны значения роста в трех группах случайно выбранных спортсменов:\n",
    "\n",
    "Футболисты: 173, 175, 180, 178, 177, 185, 183, 182.\n",
    "\n",
    "Хоккеисты: 177, 179, 180, 188, 177, 172, 171, 184, 180.\n",
    "\n",
    "Штангисты: 172, 173, 169, 177, 166, 180, 178, 177, 172, 166, 170."
   ]
  },
  {
   "attachments": {},
   "cell_type": "markdown",
   "metadata": {},
   "source": [
    "Формулируем Н0: средний рост спортсмена не зависит от вида спорта\n",
    "alpha = 0.05"
   ]
  },
  {
   "cell_type": "code",
   "execution_count": 25,
   "metadata": {},
   "outputs": [],
   "source": [
    "import numpy as np\n",
    "import pandas as pd\n",
    "from scipy import stats"
   ]
  },
  {
   "cell_type": "code",
   "execution_count": 26,
   "metadata": {},
   "outputs": [],
   "source": [
    "f = np.array([173, 175, 180, 178, 177, 185, 183, 182])\n",
    "h = np.array([177, 179, 180, 188, 177, 172, 171, 184, 180])\n",
    "w = np.array([172, 173, 169, 177, 166, 180, 178, 177, 172, 166, 170])"
   ]
  },
  {
   "cell_type": "code",
   "execution_count": 27,
   "metadata": {},
   "outputs": [],
   "source": [
    "f_mean = np.mean(f)\n",
    "h_mean = np.mean(h)\n",
    "w_mean = np.mean(w)\n",
    "n = len(f) + len(h) + len(w)\n",
    "k = 3\n",
    "total = np.concatenate([f, h, w])\n",
    "total_mean = np.mean(total)\n"
   ]
  },
  {
   "cell_type": "code",
   "execution_count": 28,
   "metadata": {},
   "outputs": [
    {
     "data": {
      "text/plain": [
       "5.500053450812598"
      ]
     },
     "execution_count": 28,
     "metadata": {},
     "output_type": "execute_result"
    }
   ],
   "source": [
    "# сумма квадратов отклонений от общего среднего\n",
    "np.sum((total - total_mean)**2)\n",
    "# сумма квадратов отклонений средних групповых значений от общего среднего\n",
    "S_f = np.sum((f_mean-total_mean)**2)*len(f) + np.sum((h_mean - total_mean)**2)*len(h) + np.sum((w_mean - total_mean)**2)*len(w)\n",
    "# остаточная сумма квадратов отклонений\n",
    "S_ost = np.sum((f - f_mean)**2) + np.sum((h - h_mean)**2) + np.sum((w - w_mean)**2)\n",
    "# факторная дисперсия\n",
    "D_f = S_f / (k - 1)\n",
    "# остаточная дисперсия\n",
    "D_ost = S_ost / (n - k)\n",
    "# наблюдаемый критерий Фишера\n",
    "F_n = D_f / D_ost\n",
    "F_n"
   ]
  },
  {
   "cell_type": "code",
   "execution_count": 29,
   "metadata": {},
   "outputs": [
    {
     "data": {
      "text/plain": [
       "F_onewayResult(statistic=5.500053450812596, pvalue=0.010482206918698693)"
      ]
     },
     "execution_count": 29,
     "metadata": {},
     "output_type": "execute_result"
    }
   ],
   "source": [
    "# Критерий Фишера по формуле\n",
    "f = stats.f_oneway(f, h, w)\n",
    "f"
   ]
  },
  {
   "attachments": {},
   "cell_type": "markdown",
   "metadata": {},
   "source": [
    "pvalue < alpha, значит Н0 отвергается. Отличие среднего роста спортсменов является статистически значимым"
   ]
  }
 ],
 "metadata": {
  "kernelspec": {
   "display_name": "Python 3",
   "language": "python",
   "name": "python3"
  },
  "language_info": {
   "codemirror_mode": {
    "name": "ipython",
    "version": 3
   },
   "file_extension": ".py",
   "mimetype": "text/x-python",
   "name": "python",
   "nbconvert_exporter": "python",
   "pygments_lexer": "ipython3",
   "version": "3.11.1"
  },
  "orig_nbformat": 4
 },
 "nbformat": 4,
 "nbformat_minor": 2
}
